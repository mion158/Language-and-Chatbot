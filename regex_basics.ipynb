{
  "nbformat": 4,
  "nbformat_minor": 0,
  "metadata": {
    "colab": {
      "provenance": [],
      "collapsed_sections": [],
      "authorship_tag": "ABX9TyP3CpxpdsuH1BpEsKEv5zlm",
      "include_colab_link": true
    },
    "kernelspec": {
      "name": "python3",
      "display_name": "Python 3"
    },
    "language_info": {
      "name": "python"
    }
  },
  "cells": [
    {
      "cell_type": "markdown",
      "metadata": {
        "id": "view-in-github",
        "colab_type": "text"
      },
      "source": [
        "<a href=\"https://colab.research.google.com/github/mion158/Language-and-Chatbot/blob/main/regex_basics.ipynb\" target=\"_parent\"><img src=\"https://colab.research.google.com/assets/colab-badge.svg\" alt=\"Open In Colab\"/></a>"
      ]
    },
    {
      "cell_type": "code",
      "execution_count": 44,
      "metadata": {
        "colab": {
          "base_uri": "https://localhost:8080/",
          "height": 206
        },
        "id": "7VuXBoMz1Rl-",
        "outputId": "7c90539d-1ad1-4c79-9422-d538b7487c3e"
      },
      "outputs": [
        {
          "output_type": "execute_result",
          "data": {
            "text/plain": [
              "                                                text\n",
              "0  Monday: Tensei Kenja no Isekai Life: Daini no ...\n",
              "1  Tuesday: Love Live! Superstar!! 2 Ep 1-10F at ...\n",
              "2  Wednesday: Warau Arsnotoria Sun! Ep 11 at 02:0...\n",
              "3  Thursday: Bastard!!: Ankoku no Hakaishin Ep 14...\n",
              "4  Friday: Ame wo Tsugeru Hyouryuu Danchi Ep 1F a..."
            ],
            "text/html": [
              "\n",
              "  <div id=\"df-98b50e86-91c0-442e-b6a2-ce81f78e97b1\">\n",
              "    <div class=\"colab-df-container\">\n",
              "      <div>\n",
              "<style scoped>\n",
              "    .dataframe tbody tr th:only-of-type {\n",
              "        vertical-align: middle;\n",
              "    }\n",
              "\n",
              "    .dataframe tbody tr th {\n",
              "        vertical-align: top;\n",
              "    }\n",
              "\n",
              "    .dataframe thead th {\n",
              "        text-align: right;\n",
              "    }\n",
              "</style>\n",
              "<table border=\"1\" class=\"dataframe\">\n",
              "  <thead>\n",
              "    <tr style=\"text-align: right;\">\n",
              "      <th></th>\n",
              "      <th>text</th>\n",
              "    </tr>\n",
              "  </thead>\n",
              "  <tbody>\n",
              "    <tr>\n",
              "      <th>0</th>\n",
              "      <td>Monday: Tensei Kenja no Isekai Life: Daini no ...</td>\n",
              "    </tr>\n",
              "    <tr>\n",
              "      <th>1</th>\n",
              "      <td>Tuesday: Love Live! Superstar!! 2 Ep 1-10F at ...</td>\n",
              "    </tr>\n",
              "    <tr>\n",
              "      <th>2</th>\n",
              "      <td>Wednesday: Warau Arsnotoria Sun! Ep 11 at 02:0...</td>\n",
              "    </tr>\n",
              "    <tr>\n",
              "      <th>3</th>\n",
              "      <td>Thursday: Bastard!!: Ankoku no Hakaishin Ep 14...</td>\n",
              "    </tr>\n",
              "    <tr>\n",
              "      <th>4</th>\n",
              "      <td>Friday: Ame wo Tsugeru Hyouryuu Danchi Ep 1F a...</td>\n",
              "    </tr>\n",
              "  </tbody>\n",
              "</table>\n",
              "</div>\n",
              "      <button class=\"colab-df-convert\" onclick=\"convertToInteractive('df-98b50e86-91c0-442e-b6a2-ce81f78e97b1')\"\n",
              "              title=\"Convert this dataframe to an interactive table.\"\n",
              "              style=\"display:none;\">\n",
              "        \n",
              "  <svg xmlns=\"http://www.w3.org/2000/svg\" height=\"24px\"viewBox=\"0 0 24 24\"\n",
              "       width=\"24px\">\n",
              "    <path d=\"M0 0h24v24H0V0z\" fill=\"none\"/>\n",
              "    <path d=\"M18.56 5.44l.94 2.06.94-2.06 2.06-.94-2.06-.94-.94-2.06-.94 2.06-2.06.94zm-11 1L8.5 8.5l.94-2.06 2.06-.94-2.06-.94L8.5 2.5l-.94 2.06-2.06.94zm10 10l.94 2.06.94-2.06 2.06-.94-2.06-.94-.94-2.06-.94 2.06-2.06.94z\"/><path d=\"M17.41 7.96l-1.37-1.37c-.4-.4-.92-.59-1.43-.59-.52 0-1.04.2-1.43.59L10.3 9.45l-7.72 7.72c-.78.78-.78 2.05 0 2.83L4 21.41c.39.39.9.59 1.41.59.51 0 1.02-.2 1.41-.59l7.78-7.78 2.81-2.81c.8-.78.8-2.07 0-2.86zM5.41 20L4 18.59l7.72-7.72 1.47 1.35L5.41 20z\"/>\n",
              "  </svg>\n",
              "      </button>\n",
              "      \n",
              "  <style>\n",
              "    .colab-df-container {\n",
              "      display:flex;\n",
              "      flex-wrap:wrap;\n",
              "      gap: 12px;\n",
              "    }\n",
              "\n",
              "    .colab-df-convert {\n",
              "      background-color: #E8F0FE;\n",
              "      border: none;\n",
              "      border-radius: 50%;\n",
              "      cursor: pointer;\n",
              "      display: none;\n",
              "      fill: #1967D2;\n",
              "      height: 32px;\n",
              "      padding: 0 0 0 0;\n",
              "      width: 32px;\n",
              "    }\n",
              "\n",
              "    .colab-df-convert:hover {\n",
              "      background-color: #E2EBFA;\n",
              "      box-shadow: 0px 1px 2px rgba(60, 64, 67, 0.3), 0px 1px 3px 1px rgba(60, 64, 67, 0.15);\n",
              "      fill: #174EA6;\n",
              "    }\n",
              "\n",
              "    [theme=dark] .colab-df-convert {\n",
              "      background-color: #3B4455;\n",
              "      fill: #D2E3FC;\n",
              "    }\n",
              "\n",
              "    [theme=dark] .colab-df-convert:hover {\n",
              "      background-color: #434B5C;\n",
              "      box-shadow: 0px 1px 3px 1px rgba(0, 0, 0, 0.15);\n",
              "      filter: drop-shadow(0px 1px 2px rgba(0, 0, 0, 0.3));\n",
              "      fill: #FFFFFF;\n",
              "    }\n",
              "  </style>\n",
              "\n",
              "      <script>\n",
              "        const buttonEl =\n",
              "          document.querySelector('#df-98b50e86-91c0-442e-b6a2-ce81f78e97b1 button.colab-df-convert');\n",
              "        buttonEl.style.display =\n",
              "          google.colab.kernel.accessAllowed ? 'block' : 'none';\n",
              "\n",
              "        async function convertToInteractive(key) {\n",
              "          const element = document.querySelector('#df-98b50e86-91c0-442e-b6a2-ce81f78e97b1');\n",
              "          const dataTable =\n",
              "            await google.colab.kernel.invokeFunction('convertToInteractive',\n",
              "                                                     [key], {});\n",
              "          if (!dataTable) return;\n",
              "\n",
              "          const docLinkHtml = 'Like what you see? Visit the ' +\n",
              "            '<a target=\"_blank\" href=https://colab.research.google.com/notebooks/data_table.ipynb>data table notebook</a>'\n",
              "            + ' to learn more about interactive tables.';\n",
              "          element.innerHTML = '';\n",
              "          dataTable['output_type'] = 'display_data';\n",
              "          await google.colab.output.renderOutput(dataTable, element);\n",
              "          const docLink = document.createElement('div');\n",
              "          docLink.innerHTML = docLinkHtml;\n",
              "          element.appendChild(docLink);\n",
              "        }\n",
              "      </script>\n",
              "    </div>\n",
              "  </div>\n",
              "  "
            ]
          },
          "metadata": {},
          "execution_count": 44
        }
      ],
      "source": [
        "import pandas as pd\n",
        "\n",
        "anime_facts = ['Namakura Gatana is the earliest surviving anime.', \n",
        "             'Sazae-san is the world\\'s longest-running anime.',\n",
        "             'Sally the Witch is the first magical girl anime.', \n",
        "             'Spirited Away was the first anime to be nominated for an Oscar.',\n",
        "             'The Titans in Attack on Titan are based on drunk people.']\n",
        "\n",
        "anime_timetable = ['Monday: Tensei Kenja no Isekai Life: Daini no Shokugyo wo Ete, Sekai Saikyou ni Narimashita Ep 12F at 01:00 PM',\n",
        "                   'Tuesday: Love Live! Superstar!! 2 Ep 1-10F at 08:01 AM',\n",
        "                   'Wednesday: Warau Arsnotoria Sun! Ep 11 at 02:00 PM',\n",
        "                   'Thursday: Bastard!!: Ankoku no Hakaishin Ep 14-24F at 08:01 AM',\n",
        "                   'Friday: Ame wo Tsugeru Hyouryuu Danchi Ep 1F at 08:01 AM']\n",
        "\n",
        "df = pd.DataFrame(anime_timetable, columns=['text'])\n",
        "df"
      ]
    },
    {
      "cell_type": "code",
      "source": [
        "print('number of characters: ')\n",
        "print(df['text'].str.len())\n",
        "print(\"\")\n",
        "print('number of tokens: ')\n",
        "print( df['text'].str.split().str.len())"
      ],
      "metadata": {
        "colab": {
          "base_uri": "https://localhost:8080/"
        },
        "id": "90J5GFCz2KMR",
        "outputId": "eb9c2840-1fca-4798-fdff-3e3bdd7cea61"
      },
      "execution_count": 37,
      "outputs": [
        {
          "output_type": "stream",
          "name": "stdout",
          "text": [
            "number of characters: \n",
            "0    110\n",
            "1     54\n",
            "2     50\n",
            "3     62\n",
            "4     56\n",
            "Name: text, dtype: int64\n",
            "\n",
            "number of tokens: \n",
            "0    20\n",
            "1    10\n",
            "2     9\n",
            "3    10\n",
            "4    11\n",
            "Name: text, dtype: int64\n"
          ]
        }
      ]
    },
    {
      "cell_type": "code",
      "source": [
        "df['text'].str.split(' ')"
      ],
      "metadata": {
        "colab": {
          "base_uri": "https://localhost:8080/"
        },
        "id": "gKiqL-FK3iGl",
        "outputId": "d9b61d6e-0f41-4f4c-a4e7-74bbb6946263"
      },
      "execution_count": 38,
      "outputs": [
        {
          "output_type": "execute_result",
          "data": {
            "text/plain": [
              "0    [Monday:, Tensei, Kenja, no, Isekai, Life:, Da...\n",
              "1    [Tuesday:, Love, Live!, Superstar!!, 2, Ep, 1-...\n",
              "2    [Wednesday:, Warau, Arsnotoria, Sun!, Ep, 11, ...\n",
              "3    [Thursday:, Bastard!!:, Ankoku, no, Hakaishin,...\n",
              "4    [Friday:, Ame, wo, Tsugeru, Hyouryuu, Danchi, ...\n",
              "Name: text, dtype: object"
            ]
          },
          "metadata": {},
          "execution_count": 38
        }
      ]
    },
    {
      "cell_type": "code",
      "source": [
        "print(\"\")\n",
        "print('string contains word isekai: ')\n",
        "print( df['text'].str.lower().str.contains('isekai'))"
      ],
      "metadata": {
        "colab": {
          "base_uri": "https://localhost:8080/"
        },
        "id": "JpUNUaYS2KOu",
        "outputId": "bc5d7ea9-b174-43e1-e9bd-bef74b5d3f5b"
      },
      "execution_count": 39,
      "outputs": [
        {
          "output_type": "stream",
          "name": "stdout",
          "text": [
            "\n",
            "string contains word isekai: \n",
            "0     True\n",
            "1    False\n",
            "2    False\n",
            "3    False\n",
            "4    False\n",
            "Name: text, dtype: bool\n"
          ]
        }
      ]
    },
    {
      "cell_type": "code",
      "source": [
        "df['text'].str.replace(r'(\\w+day\\b)', lambda x: x.group()[0][:3])"
      ],
      "metadata": {
        "colab": {
          "base_uri": "https://localhost:8080/"
        },
        "id": "fZ6CPMOd-Y0f",
        "outputId": "67265e3e-6436-435a-c126-564200bf4d02"
      },
      "execution_count": 91,
      "outputs": [
        {
          "output_type": "stream",
          "name": "stderr",
          "text": [
            "/usr/local/lib/python3.7/dist-packages/ipykernel_launcher.py:1: FutureWarning: The default value of regex will change from True to False in a future version.\n",
            "  \"\"\"Entry point for launching an IPython kernel.\n"
          ]
        },
        {
          "output_type": "execute_result",
          "data": {
            "text/plain": [
              "0    M: Tensei Kenja no Isekai Life: Daini no Shoku...\n",
              "1     T: Love Live! Superstar!! 2 Ep 1-10F at 08:01 AM\n",
              "2           W: Warau Arsnotoria Sun! Ep 11 at 02:00 PM\n",
              "3    T: Bastard!!: Ankoku no Hakaishin Ep 14-24F at...\n",
              "4    F: Ame wo Tsugeru Hyouryuu Danchi Ep 1F at 08:...\n",
              "Name: text, dtype: object"
            ]
          },
          "metadata": {},
          "execution_count": 91
        }
      ]
    },
    {
      "cell_type": "code",
      "source": [
        "df['text'].str.extractall(r'((\\d?\\d):(\\d\\d) ([AP]M))')"
      ],
      "metadata": {
        "colab": {
          "base_uri": "https://localhost:8080/",
          "height": 237
        },
        "id": "FVgpEvdy9V70",
        "outputId": "19ae22a1-efeb-4d79-821f-5b5c43fa6c4f"
      },
      "execution_count": 57,
      "outputs": [
        {
          "output_type": "execute_result",
          "data": {
            "text/plain": [
              "                0   1   2   3\n",
              "  match                      \n",
              "0 0      01:00 PM  01  00  PM\n",
              "1 0      08:01 AM  08  01  AM\n",
              "2 0      02:00 PM  02  00  PM\n",
              "3 0      08:01 AM  08  01  AM\n",
              "4 0      08:01 AM  08  01  AM"
            ],
            "text/html": [
              "\n",
              "  <div id=\"df-2344eafc-7dd0-4013-bb76-456f0cc99ebe\">\n",
              "    <div class=\"colab-df-container\">\n",
              "      <div>\n",
              "<style scoped>\n",
              "    .dataframe tbody tr th:only-of-type {\n",
              "        vertical-align: middle;\n",
              "    }\n",
              "\n",
              "    .dataframe tbody tr th {\n",
              "        vertical-align: top;\n",
              "    }\n",
              "\n",
              "    .dataframe thead th {\n",
              "        text-align: right;\n",
              "    }\n",
              "</style>\n",
              "<table border=\"1\" class=\"dataframe\">\n",
              "  <thead>\n",
              "    <tr style=\"text-align: right;\">\n",
              "      <th></th>\n",
              "      <th></th>\n",
              "      <th>0</th>\n",
              "      <th>1</th>\n",
              "      <th>2</th>\n",
              "      <th>3</th>\n",
              "    </tr>\n",
              "    <tr>\n",
              "      <th></th>\n",
              "      <th>match</th>\n",
              "      <th></th>\n",
              "      <th></th>\n",
              "      <th></th>\n",
              "      <th></th>\n",
              "    </tr>\n",
              "  </thead>\n",
              "  <tbody>\n",
              "    <tr>\n",
              "      <th>0</th>\n",
              "      <th>0</th>\n",
              "      <td>01:00 PM</td>\n",
              "      <td>01</td>\n",
              "      <td>00</td>\n",
              "      <td>PM</td>\n",
              "    </tr>\n",
              "    <tr>\n",
              "      <th>1</th>\n",
              "      <th>0</th>\n",
              "      <td>08:01 AM</td>\n",
              "      <td>08</td>\n",
              "      <td>01</td>\n",
              "      <td>AM</td>\n",
              "    </tr>\n",
              "    <tr>\n",
              "      <th>2</th>\n",
              "      <th>0</th>\n",
              "      <td>02:00 PM</td>\n",
              "      <td>02</td>\n",
              "      <td>00</td>\n",
              "      <td>PM</td>\n",
              "    </tr>\n",
              "    <tr>\n",
              "      <th>3</th>\n",
              "      <th>0</th>\n",
              "      <td>08:01 AM</td>\n",
              "      <td>08</td>\n",
              "      <td>01</td>\n",
              "      <td>AM</td>\n",
              "    </tr>\n",
              "    <tr>\n",
              "      <th>4</th>\n",
              "      <th>0</th>\n",
              "      <td>08:01 AM</td>\n",
              "      <td>08</td>\n",
              "      <td>01</td>\n",
              "      <td>AM</td>\n",
              "    </tr>\n",
              "  </tbody>\n",
              "</table>\n",
              "</div>\n",
              "      <button class=\"colab-df-convert\" onclick=\"convertToInteractive('df-2344eafc-7dd0-4013-bb76-456f0cc99ebe')\"\n",
              "              title=\"Convert this dataframe to an interactive table.\"\n",
              "              style=\"display:none;\">\n",
              "        \n",
              "  <svg xmlns=\"http://www.w3.org/2000/svg\" height=\"24px\"viewBox=\"0 0 24 24\"\n",
              "       width=\"24px\">\n",
              "    <path d=\"M0 0h24v24H0V0z\" fill=\"none\"/>\n",
              "    <path d=\"M18.56 5.44l.94 2.06.94-2.06 2.06-.94-2.06-.94-.94-2.06-.94 2.06-2.06.94zm-11 1L8.5 8.5l.94-2.06 2.06-.94-2.06-.94L8.5 2.5l-.94 2.06-2.06.94zm10 10l.94 2.06.94-2.06 2.06-.94-2.06-.94-.94-2.06-.94 2.06-2.06.94z\"/><path d=\"M17.41 7.96l-1.37-1.37c-.4-.4-.92-.59-1.43-.59-.52 0-1.04.2-1.43.59L10.3 9.45l-7.72 7.72c-.78.78-.78 2.05 0 2.83L4 21.41c.39.39.9.59 1.41.59.51 0 1.02-.2 1.41-.59l7.78-7.78 2.81-2.81c.8-.78.8-2.07 0-2.86zM5.41 20L4 18.59l7.72-7.72 1.47 1.35L5.41 20z\"/>\n",
              "  </svg>\n",
              "      </button>\n",
              "      \n",
              "  <style>\n",
              "    .colab-df-container {\n",
              "      display:flex;\n",
              "      flex-wrap:wrap;\n",
              "      gap: 12px;\n",
              "    }\n",
              "\n",
              "    .colab-df-convert {\n",
              "      background-color: #E8F0FE;\n",
              "      border: none;\n",
              "      border-radius: 50%;\n",
              "      cursor: pointer;\n",
              "      display: none;\n",
              "      fill: #1967D2;\n",
              "      height: 32px;\n",
              "      padding: 0 0 0 0;\n",
              "      width: 32px;\n",
              "    }\n",
              "\n",
              "    .colab-df-convert:hover {\n",
              "      background-color: #E2EBFA;\n",
              "      box-shadow: 0px 1px 2px rgba(60, 64, 67, 0.3), 0px 1px 3px 1px rgba(60, 64, 67, 0.15);\n",
              "      fill: #174EA6;\n",
              "    }\n",
              "\n",
              "    [theme=dark] .colab-df-convert {\n",
              "      background-color: #3B4455;\n",
              "      fill: #D2E3FC;\n",
              "    }\n",
              "\n",
              "    [theme=dark] .colab-df-convert:hover {\n",
              "      background-color: #434B5C;\n",
              "      box-shadow: 0px 1px 3px 1px rgba(0, 0, 0, 0.15);\n",
              "      filter: drop-shadow(0px 1px 2px rgba(0, 0, 0, 0.3));\n",
              "      fill: #FFFFFF;\n",
              "    }\n",
              "  </style>\n",
              "\n",
              "      <script>\n",
              "        const buttonEl =\n",
              "          document.querySelector('#df-2344eafc-7dd0-4013-bb76-456f0cc99ebe button.colab-df-convert');\n",
              "        buttonEl.style.display =\n",
              "          google.colab.kernel.accessAllowed ? 'block' : 'none';\n",
              "\n",
              "        async function convertToInteractive(key) {\n",
              "          const element = document.querySelector('#df-2344eafc-7dd0-4013-bb76-456f0cc99ebe');\n",
              "          const dataTable =\n",
              "            await google.colab.kernel.invokeFunction('convertToInteractive',\n",
              "                                                     [key], {});\n",
              "          if (!dataTable) return;\n",
              "\n",
              "          const docLinkHtml = 'Like what you see? Visit the ' +\n",
              "            '<a target=\"_blank\" href=https://colab.research.google.com/notebooks/data_table.ipynb>data table notebook</a>'\n",
              "            + ' to learn more about interactive tables.';\n",
              "          element.innerHTML = '';\n",
              "          dataTable['output_type'] = 'display_data';\n",
              "          await google.colab.output.renderOutput(dataTable, element);\n",
              "          const docLink = document.createElement('div');\n",
              "          docLink.innerHTML = docLinkHtml;\n",
              "          element.appendChild(docLink);\n",
              "        }\n",
              "      </script>\n",
              "    </div>\n",
              "  </div>\n",
              "  "
            ]
          },
          "metadata": {},
          "execution_count": 57
        }
      ]
    },
    {
      "cell_type": "code",
      "source": [
        "df['text'].str.extractall(r'(?P<time>(?P<hour>\\d?\\d):(?P<minute>\\d\\d) ?(?P<period>[AP]M))')"
      ],
      "metadata": {
        "colab": {
          "base_uri": "https://localhost:8080/",
          "height": 237
        },
        "id": "k2obdVsF6OoT",
        "outputId": "b7144f2d-89cb-407c-a8d8-9c0d61b3523d"
      },
      "execution_count": 56,
      "outputs": [
        {
          "output_type": "execute_result",
          "data": {
            "text/plain": [
              "             time hour minute period\n",
              "  match                             \n",
              "0 0      01:00 PM   01     00     PM\n",
              "1 0      08:01 AM   08     01     AM\n",
              "2 0      02:00 PM   02     00     PM\n",
              "3 0      08:01 AM   08     01     AM\n",
              "4 0      08:01 AM   08     01     AM"
            ],
            "text/html": [
              "\n",
              "  <div id=\"df-74839d9e-1a5d-49df-afa5-6a94164cae3b\">\n",
              "    <div class=\"colab-df-container\">\n",
              "      <div>\n",
              "<style scoped>\n",
              "    .dataframe tbody tr th:only-of-type {\n",
              "        vertical-align: middle;\n",
              "    }\n",
              "\n",
              "    .dataframe tbody tr th {\n",
              "        vertical-align: top;\n",
              "    }\n",
              "\n",
              "    .dataframe thead th {\n",
              "        text-align: right;\n",
              "    }\n",
              "</style>\n",
              "<table border=\"1\" class=\"dataframe\">\n",
              "  <thead>\n",
              "    <tr style=\"text-align: right;\">\n",
              "      <th></th>\n",
              "      <th></th>\n",
              "      <th>time</th>\n",
              "      <th>hour</th>\n",
              "      <th>minute</th>\n",
              "      <th>period</th>\n",
              "    </tr>\n",
              "    <tr>\n",
              "      <th></th>\n",
              "      <th>match</th>\n",
              "      <th></th>\n",
              "      <th></th>\n",
              "      <th></th>\n",
              "      <th></th>\n",
              "    </tr>\n",
              "  </thead>\n",
              "  <tbody>\n",
              "    <tr>\n",
              "      <th>0</th>\n",
              "      <th>0</th>\n",
              "      <td>01:00 PM</td>\n",
              "      <td>01</td>\n",
              "      <td>00</td>\n",
              "      <td>PM</td>\n",
              "    </tr>\n",
              "    <tr>\n",
              "      <th>1</th>\n",
              "      <th>0</th>\n",
              "      <td>08:01 AM</td>\n",
              "      <td>08</td>\n",
              "      <td>01</td>\n",
              "      <td>AM</td>\n",
              "    </tr>\n",
              "    <tr>\n",
              "      <th>2</th>\n",
              "      <th>0</th>\n",
              "      <td>02:00 PM</td>\n",
              "      <td>02</td>\n",
              "      <td>00</td>\n",
              "      <td>PM</td>\n",
              "    </tr>\n",
              "    <tr>\n",
              "      <th>3</th>\n",
              "      <th>0</th>\n",
              "      <td>08:01 AM</td>\n",
              "      <td>08</td>\n",
              "      <td>01</td>\n",
              "      <td>AM</td>\n",
              "    </tr>\n",
              "    <tr>\n",
              "      <th>4</th>\n",
              "      <th>0</th>\n",
              "      <td>08:01 AM</td>\n",
              "      <td>08</td>\n",
              "      <td>01</td>\n",
              "      <td>AM</td>\n",
              "    </tr>\n",
              "  </tbody>\n",
              "</table>\n",
              "</div>\n",
              "      <button class=\"colab-df-convert\" onclick=\"convertToInteractive('df-74839d9e-1a5d-49df-afa5-6a94164cae3b')\"\n",
              "              title=\"Convert this dataframe to an interactive table.\"\n",
              "              style=\"display:none;\">\n",
              "        \n",
              "  <svg xmlns=\"http://www.w3.org/2000/svg\" height=\"24px\"viewBox=\"0 0 24 24\"\n",
              "       width=\"24px\">\n",
              "    <path d=\"M0 0h24v24H0V0z\" fill=\"none\"/>\n",
              "    <path d=\"M18.56 5.44l.94 2.06.94-2.06 2.06-.94-2.06-.94-.94-2.06-.94 2.06-2.06.94zm-11 1L8.5 8.5l.94-2.06 2.06-.94-2.06-.94L8.5 2.5l-.94 2.06-2.06.94zm10 10l.94 2.06.94-2.06 2.06-.94-2.06-.94-.94-2.06-.94 2.06-2.06.94z\"/><path d=\"M17.41 7.96l-1.37-1.37c-.4-.4-.92-.59-1.43-.59-.52 0-1.04.2-1.43.59L10.3 9.45l-7.72 7.72c-.78.78-.78 2.05 0 2.83L4 21.41c.39.39.9.59 1.41.59.51 0 1.02-.2 1.41-.59l7.78-7.78 2.81-2.81c.8-.78.8-2.07 0-2.86zM5.41 20L4 18.59l7.72-7.72 1.47 1.35L5.41 20z\"/>\n",
              "  </svg>\n",
              "      </button>\n",
              "      \n",
              "  <style>\n",
              "    .colab-df-container {\n",
              "      display:flex;\n",
              "      flex-wrap:wrap;\n",
              "      gap: 12px;\n",
              "    }\n",
              "\n",
              "    .colab-df-convert {\n",
              "      background-color: #E8F0FE;\n",
              "      border: none;\n",
              "      border-radius: 50%;\n",
              "      cursor: pointer;\n",
              "      display: none;\n",
              "      fill: #1967D2;\n",
              "      height: 32px;\n",
              "      padding: 0 0 0 0;\n",
              "      width: 32px;\n",
              "    }\n",
              "\n",
              "    .colab-df-convert:hover {\n",
              "      background-color: #E2EBFA;\n",
              "      box-shadow: 0px 1px 2px rgba(60, 64, 67, 0.3), 0px 1px 3px 1px rgba(60, 64, 67, 0.15);\n",
              "      fill: #174EA6;\n",
              "    }\n",
              "\n",
              "    [theme=dark] .colab-df-convert {\n",
              "      background-color: #3B4455;\n",
              "      fill: #D2E3FC;\n",
              "    }\n",
              "\n",
              "    [theme=dark] .colab-df-convert:hover {\n",
              "      background-color: #434B5C;\n",
              "      box-shadow: 0px 1px 3px 1px rgba(0, 0, 0, 0.15);\n",
              "      filter: drop-shadow(0px 1px 2px rgba(0, 0, 0, 0.3));\n",
              "      fill: #FFFFFF;\n",
              "    }\n",
              "  </style>\n",
              "\n",
              "      <script>\n",
              "        const buttonEl =\n",
              "          document.querySelector('#df-74839d9e-1a5d-49df-afa5-6a94164cae3b button.colab-df-convert');\n",
              "        buttonEl.style.display =\n",
              "          google.colab.kernel.accessAllowed ? 'block' : 'none';\n",
              "\n",
              "        async function convertToInteractive(key) {\n",
              "          const element = document.querySelector('#df-74839d9e-1a5d-49df-afa5-6a94164cae3b');\n",
              "          const dataTable =\n",
              "            await google.colab.kernel.invokeFunction('convertToInteractive',\n",
              "                                                     [key], {});\n",
              "          if (!dataTable) return;\n",
              "\n",
              "          const docLinkHtml = 'Like what you see? Visit the ' +\n",
              "            '<a target=\"_blank\" href=https://colab.research.google.com/notebooks/data_table.ipynb>data table notebook</a>'\n",
              "            + ' to learn more about interactive tables.';\n",
              "          element.innerHTML = '';\n",
              "          dataTable['output_type'] = 'display_data';\n",
              "          await google.colab.output.renderOutput(dataTable, element);\n",
              "          const docLink = document.createElement('div');\n",
              "          docLink.innerHTML = docLinkHtml;\n",
              "          element.appendChild(docLink);\n",
              "        }\n",
              "      </script>\n",
              "    </div>\n",
              "  </div>\n",
              "  "
            ]
          },
          "metadata": {},
          "execution_count": 56
        }
      ]
    },
    {
      "cell_type": "code",
      "source": [
        "import re\n",
        "#regex to find everything \n",
        "for sentence in df['text'].str.split():\n",
        "  for token in sentence:\n",
        "    if re.search('[A-Za-z0-9_]+', token):\n",
        "      print(token)"
      ],
      "metadata": {
        "colab": {
          "base_uri": "https://localhost:8080/"
        },
        "id": "bPHeidoT4z7k",
        "outputId": "b5f772ed-f1e2-45b2-fb8e-e956641551e0"
      },
      "execution_count": 108,
      "outputs": [
        {
          "output_type": "stream",
          "name": "stdout",
          "text": [
            "Monday:\n",
            "Tensei\n",
            "Kenja\n",
            "no\n",
            "Isekai\n",
            "Life:\n",
            "Daini\n",
            "no\n",
            "Shokugyo\n",
            "wo\n",
            "Ete,\n",
            "Sekai\n",
            "Saikyou\n",
            "ni\n",
            "Narimashita\n",
            "Ep\n",
            "12F\n",
            "at\n",
            "01:00\n",
            "PM\n",
            "Tuesday:\n",
            "Love\n",
            "Live!\n",
            "Superstar!!\n",
            "2\n",
            "Ep\n",
            "1-10F\n",
            "at\n",
            "08:01\n",
            "AM\n",
            "Wednesday:\n",
            "Warau\n",
            "Arsnotoria\n",
            "Sun!\n",
            "Ep\n",
            "11\n",
            "at\n",
            "02:00\n",
            "PM\n",
            "Thursday:\n",
            "Bastard!!:\n",
            "Ankoku\n",
            "no\n",
            "Hakaishin\n",
            "Ep\n",
            "14-24F\n",
            "at\n",
            "08:01\n",
            "AM\n",
            "Friday:\n",
            "Ame\n",
            "wo\n",
            "Tsugeru\n",
            "Hyouryuu\n",
            "Danchi\n",
            "Ep\n",
            "1F\n",
            "at\n",
            "08:01\n",
            "AM\n"
          ]
        }
      ]
    },
    {
      "cell_type": "code",
      "source": [
        "\n",
        "anime_facts = ['Namakura Gatana is the earliest surviving anime.', \n",
        "             'Sazae-san is the world\\'s longest-running anime.',\n",
        "             'Sally the Witch is the first magical girl anime.', \n",
        "             'Spirited Away was the first anime to be nominated for an Oscar.',\n",
        "             'The Titans in Attack on Titan are based on drunk people.']\n",
        "\n",
        "data = pd.DataFrame(anime_facts, columns=['text'])\n",
        "facts = data['text'].str.split()\n",
        "facts"
      ],
      "metadata": {
        "colab": {
          "base_uri": "https://localhost:8080/"
        },
        "id": "FmSvclocCPgF",
        "outputId": "b4decba1-9930-4734-b96c-0915545e8e4d"
      },
      "execution_count": 142,
      "outputs": [
        {
          "output_type": "execute_result",
          "data": {
            "text/plain": [
              "0    [Namakura, Gatana, is, the, earliest, survivin...\n",
              "1    [Sazae-san, is, the, world's, longest-running,...\n",
              "2    [Sally, the, Witch, is, the, first, magical, g...\n",
              "3    [Spirited, Away, was, the, first, anime, to, b...\n",
              "4    [The, Titans, in, Attack, on, Titan, are, base...\n",
              "Name: text, dtype: object"
            ]
          },
          "metadata": {},
          "execution_count": 142
        }
      ]
    },
    {
      "cell_type": "code",
      "source": [
        "import nltk"
      ],
      "metadata": {
        "id": "0P6wQtxCBHMK"
      },
      "execution_count": 113,
      "outputs": []
    },
    {
      "cell_type": "code",
      "source": [
        "#normalization and stemming\n",
        "\n",
        "porter = nltk.PorterStemmer()\n",
        "for sentence in facts:\n",
        "  for token in sentence:\n",
        "    print(porter.stem(token))\n"
      ],
      "metadata": {
        "colab": {
          "base_uri": "https://localhost:8080/"
        },
        "id": "MIjIw9BkBhKw",
        "outputId": "cb1c45c1-e5d2-4bff-966c-58c97af3e0db"
      },
      "execution_count": 143,
      "outputs": [
        {
          "output_type": "stream",
          "name": "stdout",
          "text": [
            "namakura\n",
            "gatana\n",
            "is\n",
            "the\n",
            "earliest\n",
            "surviv\n",
            "anime.\n",
            "sazae-san\n",
            "is\n",
            "the\n",
            "world'\n",
            "longest-run\n",
            "anime.\n",
            "salli\n",
            "the\n",
            "witch\n",
            "is\n",
            "the\n",
            "first\n",
            "magic\n",
            "girl\n",
            "anime.\n",
            "spirit\n",
            "away\n",
            "wa\n",
            "the\n",
            "first\n",
            "anim\n",
            "to\n",
            "be\n",
            "nomin\n",
            "for\n",
            "an\n",
            "oscar.\n",
            "the\n",
            "titan\n",
            "in\n",
            "attack\n",
            "on\n",
            "titan\n",
            "are\n",
            "base\n",
            "on\n",
            "drunk\n",
            "people.\n"
          ]
        }
      ]
    },
    {
      "cell_type": "code",
      "source": [
        "#lemmatization\n",
        "nltk.download('wordnet')\n",
        "nltk.download('omw-1.4')\n",
        "WNlemma = nltk.WordNetLemmatizer()\n",
        "[WNlemma.lemmatize(token) for token in facts[4]]"
      ],
      "metadata": {
        "colab": {
          "base_uri": "https://localhost:8080/"
        },
        "id": "pqcHPyFdCL3J",
        "outputId": "d08f93fd-e224-48b9-a974-80de425e95d8"
      },
      "execution_count": 145,
      "outputs": [
        {
          "output_type": "stream",
          "name": "stderr",
          "text": [
            "[nltk_data] Downloading package wordnet to /root/nltk_data...\n",
            "[nltk_data]   Package wordnet is already up-to-date!\n",
            "[nltk_data] Downloading package omw-1.4 to /root/nltk_data...\n",
            "[nltk_data]   Package omw-1.4 is already up-to-date!\n"
          ]
        },
        {
          "output_type": "execute_result",
          "data": {
            "text/plain": [
              "['The',\n",
              " 'Titans',\n",
              " 'in',\n",
              " 'Attack',\n",
              " 'on',\n",
              " 'Titan',\n",
              " 'are',\n",
              " 'based',\n",
              " 'on',\n",
              " 'drunk',\n",
              " 'people.']"
            ]
          },
          "metadata": {},
          "execution_count": 145
        }
      ]
    },
    {
      "cell_type": "code",
      "source": [
        "#POS tagging \n",
        "nltk.download('averaged_perceptron_tagger')\n",
        "nltk.pos_tag(facts[4])"
      ],
      "metadata": {
        "colab": {
          "base_uri": "https://localhost:8080/"
        },
        "id": "VC0WlcsKF5uS",
        "outputId": "f1e234a1-f3e3-4aa3-8786-ba3ea65581bf"
      },
      "execution_count": 157,
      "outputs": [
        {
          "output_type": "stream",
          "name": "stderr",
          "text": [
            "[nltk_data] Downloading package averaged_perceptron_tagger to\n",
            "[nltk_data]     /root/nltk_data...\n",
            "[nltk_data]   Package averaged_perceptron_tagger is already up-to-\n",
            "[nltk_data]       date!\n"
          ]
        },
        {
          "output_type": "execute_result",
          "data": {
            "text/plain": [
              "[('The', 'DT'),\n",
              " ('Titans', 'NNPS'),\n",
              " ('in', 'IN'),\n",
              " ('Attack', 'NNP'),\n",
              " ('on', 'IN'),\n",
              " ('Titan', 'NNP'),\n",
              " ('are', 'VBP'),\n",
              " ('based', 'VBN'),\n",
              " ('on', 'IN'),\n",
              " ('drunk', 'NN'),\n",
              " ('people.', 'NN')]"
            ]
          },
          "metadata": {},
          "execution_count": 157
        }
      ]
    },
    {
      "cell_type": "code",
      "source": [
        "#word tokenize also have a function (sentence tokenize as well)\n",
        "nltk.download('punkt')\n",
        "ani_facts = data['text']\n",
        "nltk.word_tokenize(ani_facts[4])"
      ],
      "metadata": {
        "colab": {
          "base_uri": "https://localhost:8080/"
        },
        "id": "5Z-P8qdxD69p",
        "outputId": "bf1458e2-99f8-4168-b647-a2b8ed45ec21"
      },
      "execution_count": 151,
      "outputs": [
        {
          "output_type": "stream",
          "name": "stderr",
          "text": [
            "[nltk_data] Downloading package punkt to /root/nltk_data...\n",
            "[nltk_data]   Package punkt is already up-to-date!\n"
          ]
        },
        {
          "output_type": "execute_result",
          "data": {
            "text/plain": [
              "['The',\n",
              " 'Titans',\n",
              " 'in',\n",
              " 'Attack',\n",
              " 'on',\n",
              " 'Titan',\n",
              " 'are',\n",
              " 'based',\n",
              " 'on',\n",
              " 'drunk',\n",
              " 'people',\n",
              " '.']"
            ]
          },
          "metadata": {},
          "execution_count": 151
        }
      ]
    }
  ]
}