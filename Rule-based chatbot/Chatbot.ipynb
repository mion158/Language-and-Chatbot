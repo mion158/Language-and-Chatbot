{
 "cells": [
  {
   "cell_type": "code",
   "execution_count": 1,
   "id": "abbe7258",
   "metadata": {},
   "outputs": [],
   "source": [
    "import re\n",
    "import random"
   ]
  },
  {
   "cell_type": "code",
   "execution_count": 2,
   "id": "2605a4bb",
   "metadata": {},
   "outputs": [],
   "source": [
    "class BottlingBot:\n",
    "    #negative responses when initiate convo\n",
    "    negative_responses = (\"no\", \"nope\", \"nah\", \"stop\", \"not a chance\", \"sorry\")\n",
    "    #exiting words later on\n",
    "    exit_commands = (\"quit\", \"pause\", \"exit\", \"goodbye\", \"bye\", \"later\")\n",
    "    #random convo starter\n",
    "    random_questions = (\"Why did you leave? \",\"What did I do wrong? \",\"Was I not good enough? \",\"Have you already forgotten about me? \")\n",
    "    \n",
    "    def __init__(self):\n",
    "        self.babble = {'lies_intent': [r'.*you.*good enough.*', r'.*you.*perfect.*'], \n",
    "                       r'heartless_intent': [r'.*I.*moved on.*', r'.*love.*fake.*', r'.*never.*loved.*']}\n",
    "        \n",
    "        \n",
    "    #method to greet\n",
    "    def greet(self):\n",
    "        self.name = input(\"What's your name? \\n\")\n",
    "        talk_to_me = input(f\"Okay {self.name}, I have doubts, please answer? \\n\")\n",
    "        \n",
    "        if talk_to_me in self.negative_responses:\n",
    "            print(\"Nevermind then\")\n",
    "            return\n",
    "        \n",
    "        self.chat(talk_to_me)\n",
    "    \n",
    "    #method to exit convo\n",
    "    def make_exit(self, reply):\n",
    "        for exit_command in self.exit_commands:\n",
    "            if exit_command in reply:\n",
    "                print(\"K bye\")\n",
    "                return True\n",
    "      \n",
    "        return False\n",
    "\n",
    "    #method to continue convo:\n",
    "    def chat(self, reply):\n",
    "        input(random.choice(self.random_questions))\n",
    "        while not self.make_exit(reply):\n",
    "            reply = self.match_reply(reply)\n",
    " \n",
    "            \n",
    "    # Define .match_reply() below:\n",
    "    def match_reply(self, reply):\n",
    "        for key, values in self.babble.items():\n",
    "            for regex_pattern in values:\n",
    "                found_match = re.match(regex_pattern, reply.lower())\n",
    "                if found_match and key == 'lies_intent':\n",
    "                    return self.lies_intent()\n",
    "                elif found_match and key == 'heartless_intent':\n",
    "                    return self.heartless_intent()\n",
    "                \n",
    "            return self.no_match_intent()\n",
    "        \n",
    "#define the intents\n",
    "    \n",
    "    def lies_intent(self):\n",
    "        return input(\"Stop with all the lies. Bye? \\n\")\n",
    "    \n",
    "    def heartless_intent(self):\n",
    "        return input(\"Good for you. Bye? \\n\")\n",
    "\n",
    "    def no_match_intent(self):\n",
    "        return input(\"Whatever. Goodbye? \\n\")\n",
    "\n"
   ]
  },
  {
   "cell_type": "code",
   "execution_count": 3,
   "id": "7dce7a77",
   "metadata": {},
   "outputs": [
    {
     "name": "stdout",
     "output_type": "stream",
     "text": [
      "What's your name? \n",
      "mion\n",
      "Okay mion, I have doubts, please answer? \n",
      "ok\n",
      "Why did you leave? i mobd on\n",
      "Whatever. Goodbye? \n",
      "bye\n",
      "K bye\n"
     ]
    }
   ],
   "source": [
    "#Instance of bot\n",
    "talking_bot = BottlingBot()\n",
    "talking_bot.greet()"
   ]
  },
  {
   "cell_type": "code",
   "execution_count": null,
   "id": "2587d811",
   "metadata": {},
   "outputs": [],
   "source": []
  }
 ],
 "metadata": {
  "kernelspec": {
   "display_name": "Python 3 (ipykernel)",
   "language": "python",
   "name": "python3"
  },
  "language_info": {
   "codemirror_mode": {
    "name": "ipython",
    "version": 3
   },
   "file_extension": ".py",
   "mimetype": "text/x-python",
   "name": "python",
   "nbconvert_exporter": "python",
   "pygments_lexer": "ipython3",
   "version": "3.9.12"
  }
 },
 "nbformat": 4,
 "nbformat_minor": 5
}
