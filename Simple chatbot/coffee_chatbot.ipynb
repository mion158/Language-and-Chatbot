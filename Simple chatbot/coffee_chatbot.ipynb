{
  "nbformat": 4,
  "nbformat_minor": 0,
  "metadata": {
    "colab": {
      "provenance": []
    },
    "kernelspec": {
      "name": "python3",
      "display_name": "Python 3"
    },
    "language_info": {
      "name": "python"
    }
  },
  "cells": [
    {
      "cell_type": "code",
      "execution_count": 10,
      "metadata": {
        "id": "THDicLgbK_oB"
      },
      "outputs": [],
      "source": [
        "def coffee_bot():\n",
        "  print(\"Welcome to the cafe!\")\n",
        "  size = get_size()\n",
        "  print(size)\n",
        "  drink_type = get_drink_type()\n",
        "  if drink_type == \"latte\":\n",
        "    latte = order_latte()\n",
        "    print('Alright, that\\'s a {} {} {}!'.format(size, latte, drink_type))\n",
        "  else:\n",
        "     print('Alright, that\\'s a {} {}!'.format(size, drink_type))\n",
        "  name = input('Can I get your name please? \\n> ')\n",
        "  print('Thanks, {}! Your drink will be ready shortly.'.format(name))"
      ]
    },
    {
      "cell_type": "code",
      "source": [
        "def get_size():\n",
        "  res = input ('What size drink can I get for you? \\n[a] Small \\n[b] Medium \\n[c] Large \\n> ')\n",
        "  if res == \"a\":\n",
        "    return \"small\"\n",
        "  elif res == \"b\":\n",
        "    return \"medium\"\n",
        "  elif res == \"c\":\n",
        "    return \"large\"\n",
        "  else:\n",
        "    print_message()\n",
        "    return get_size()"
      ],
      "metadata": {
        "id": "C6U5IXaYqAxv"
      },
      "execution_count": 11,
      "outputs": []
    },
    {
      "cell_type": "code",
      "source": [
        "def print_message():\n",
        "    print(\"I'm sorry, I did not understand your selection. Please enter the corresponding letter for your response.\")\n"
      ],
      "metadata": {
        "id": "I2PbdcUlqIWW"
      },
      "execution_count": 12,
      "outputs": []
    },
    {
      "cell_type": "code",
      "source": [
        "def get_drink_type():\n",
        "  res = input(\"What type of drink would you like? \\n[a] Brewed Coffee \\n[b] Mocha \\n[c] Latte\\n\")\n",
        "  if res == \"a\":\n",
        "    return \"brewed coffee\"\n",
        "  elif res == \"b\":\n",
        "    return \"mocha\"\n",
        "  elif res == \"c\":\n",
        "    return order_latte()\n",
        "  else:\n",
        "    print_message()\n",
        "    return get_drink_type()"
      ],
      "metadata": {
        "id": "amXY3M6XqMjB"
      },
      "execution_count": 13,
      "outputs": []
    },
    {
      "cell_type": "code",
      "source": [
        "def order_latte():\n",
        "  res = input('And what kind of milk for your latte? \\n[a] 2% milk \\n[b] Non-fat milk \\n[c] Soy milk \\n> ')\n",
        " \n",
        "  if res == 'a':\n",
        "    return 'latte'\n",
        "  elif res == 'b':\n",
        "    return 'non-fat latte'\n",
        "  elif res == 'c':\n",
        "    return 'soy latte'\n",
        "  else:\n",
        "    print_message()\n",
        "    return order_latte()\n"
      ],
      "metadata": {
        "id": "Ly57YrneqMqU"
      },
      "execution_count": 14,
      "outputs": []
    },
    {
      "cell_type": "code",
      "source": [
        "coffee_bot()"
      ],
      "metadata": {
        "colab": {
          "base_uri": "https://localhost:8080/"
        },
        "id": "Im1WF3kFqMtg",
        "outputId": "85a48816-9711-4ca5-fb37-c52ff95d8fe2"
      },
      "execution_count": 15,
      "outputs": [
        {
          "output_type": "stream",
          "name": "stdout",
          "text": [
            "Welcome to the cafe!\n",
            "What size drink can I get for you? \n",
            "[a] Small \n",
            "[b] Medium \n",
            "[c] Large \n",
            "> c\n",
            "large\n",
            "What type of drink would you like? \n",
            "[a] Brewed Coffee \n",
            "[b] Mocha \n",
            "[c] Latte\n",
            "c\n",
            "And what kind of milk for your latte? \n",
            "[a] 2% milk \n",
            "[b] Non-fat milk \n",
            "[c] Soy milk \n",
            "> c\n",
            "Alright, that's a large soy latte!\n",
            "Can I get your name please? \n",
            "> Mion\n",
            "Thanks, Mion! Your drink will be ready shortly.\n"
          ]
        }
      ]
    },
    {
      "cell_type": "code",
      "source": [],
      "metadata": {
        "id": "uYoigxnXqMwx"
      },
      "execution_count": null,
      "outputs": []
    }
  ]
}