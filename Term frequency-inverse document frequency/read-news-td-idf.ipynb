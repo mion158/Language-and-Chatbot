{
 "cells": [
  {
   "cell_type": "code",
   "execution_count": 1,
   "metadata": {
    "collapsed": true
   },
   "outputs": [],
   "source": [
    "import seaborn\n",
    "import pandas as pd\n",
    "import numpy as np"
   ]
  },
  {
   "cell_type": "code",
   "execution_count": 19,
   "metadata": {
    "collapsed": true
   },
   "outputs": [],
   "source": [
    "import nltk, re\n",
    "from nltk.corpus import wordnet\n",
    "from nltk.corpus import stopwords\n",
    "from nltk.tokenize import word_tokenize\n",
    "from nltk.stem import WordNetLemmatizer\n",
    "from collections import Counter\n"
   ]
  },
  {
   "cell_type": "code",
   "execution_count": 18,
   "metadata": {
    "collapsed": false
   },
   "outputs": [
    {
     "name": "stdout",
     "output_type": "stream",
     "text": [
      "[nltk_data] Downloading package stopwords to /home/dq/nltk_data...\n",
      "[nltk_data]   Package stopwords is already up-to-date!\n",
      "[nltk_data] Downloading package punkt to /home/dq/nltk_data...\n",
      "[nltk_data]   Package punkt is already up-to-date!\n",
      "[nltk_data] Downloading package wordnet to /home/dq/nltk_data...\n"
     ]
    }
   ],
   "source": [
    "nltk.download('stopwords')\n",
    "nltk.download('punkt')\n",
    "nltk.download('wordnet')\n",
    "normalizer = WordNetLemmatizer()"
   ]
  },
  {
   "cell_type": "markdown",
   "metadata": {},
   "source": [
    "copy some articles texts and put them into a list"
   ]
  },
  {
   "cell_type": "code",
   "execution_count": 4,
   "metadata": {
    "collapsed": true
   },
   "outputs": [],
   "source": [
    "article_1 = '''KARACHI: The Sindh government has decided to bring down public transport fares by 7 per cent due to massive reduction in petroleum product prices by the federal government, Geo News reported.Sources said reduction in fares will be applicable on public transport, rickshaw, taxi and other means of traveling. Meanwhile, Karachi Transport Ittehad (KTI) has refused to abide by the government decision.KTI President Irshad Bukhari said the commuters are charged the lowest fares in Karachi as compare to other parts of the country, adding that 80pc vehicles run on Compressed Natural Gas (CNG). Bukhari said Karachi transporters will cut fares when decrease in CNG prices will be made.'''\n",
    "\n",
    "article_2 = '''HONG KONG:  Hong Kong shares opened 0.66 percent lower Monday following a tepid lead from Wall Street, as the first full week of the new year kicked off. The benchmark Hang Seng Index dipped 158.63 points to 23,699.19.'''\n",
    "\n",
    "article_3 = '''KARACHI: Wholesale market rates for sugar dropped to less than Rs 50 per kg following the resumption of sugar cane crushing by sugar mills in Sindh. Within two days, the rate dropped by Rs 1.70 to Rs 49.80 per kg in Karachi Whole Sale Market. According to dealers, the resumption of sugar cane crushing by the mills stabilised the supply to the market with an immediate effect on price as well. Industry experts said that the quality of sugar cane is excellent in Sindh and approximately 100 kg of sugar cane can produce 11 kg of sugar.'''\n",
    "\n",
    "article_4 = '''ISLAMABAD: Long queues of vehicles on fuel stations were visible in different parts of the country as the petrol became rare commodity on Thursday. Federal Minister for Petroleum Shahid Khaqan Abbasi says \"it may take up to ten days to bring the situation to normality\". He claimed that northern areas of Pakistan had been facing the petrol shortage. The minister cited the recent decline in petroleum prices and delay in a shipment as reasons for the shortage.He said situation would improve as soon as shipment reached Pakistan. Sources told Geo News hat due to financial restraints the Pakistan State Oil has been unable import petrol.'''\n",
    "\n",
    "article_5 = '''KARACHI: The final shipment of Chinese manufactured Rail Engines arrived in Pakistan on Friday. Federal Railways Minister, Khwaja Saad Rafique says, the inclusion of the new engines will help ease the shortfall faced by Pakistan Railways. The shipment includes 2000 and 3000-horse-power engines which will be used to pull freight bogeys. Rafique told journalists, the inclusion of 15 new engines has brought Pakistan Railways total strength to 268 engines however more engines are still required.'''\n",
    "\n",
    "article_6 = '''SYDNEY: Cricket fever has gripped Australia with the World Cup just days away. Fans from around the world have thronged to the country and hotels are capitalising. Prices of rooms have almost doubled to 300 dollars and hotels are experiencing full bookings. Experts estimate that during the mega event Australia will generate 1.5 million US dollars just from hotel bookings. If the cost of internal air travel, taxis and tickets is taken into consideration, Australia stands to generate two million US dollars during the World Cup.'''\n",
    "\n",
    "article_7 = '''SAN FRANCISCO: Apple Inc aims to begin producing electric vehicles as early as 2020, Bloomberg reported. The report cited people with knowledge of the matter as saying, a seemingly aggressive target for a mobile devices maker with little experience in car manufacture.The iPhone maker is pushing its \"car team\" of about 200 people to meet that goal. But Apple may decide to scrap its car-making effort, or delay it, if executives grew unhappy with its progress, the news agency said.'''\n",
    "\n",
    "article_8 = '''LAHORE: Federal Minister for Railways, Khawaja Saad Rafique Tuesday announced good news of pay-raise for the employees of Pakistan Railways. In a media statement, the Minister disclosed that a summary for increase in salaries for the employees of Pakistan Railways has been forwarded to the Prime Minister. He also said that the government had also chalked out a plan to build houses for the Railways workers. Khawaja Saad Rafique said it was expected that the salaries of Railway Police may witness a jump of 20 percent. He also announced the government\\x92s plan to launch a new train service between Karachi and Islamabad.'''\n",
    "\n",
    "article_9 = '''ISLAMABAD: The Federal Cabinet on Tuesday approved the budget strategy paper, sources revealed to Geo News. During the cabinet meeting, Prime Minister Nawaz Sharif said tax rate had to be reduced to increase revenue. He added that people would happily pay taxes if the rate was reduced. The prime minister directed the cabinet to provide maximum relief to people in the budget, emphasising that the economic impact should reach people.'''\n",
    "\n",
    "article_10 = '''BEIJING: China will keep the yuan basically stable against a basket of currencies and there is no basis for continued yuan depreciation, central bank vice governor Yi Gang said on Sunday. China also will keep foreign exchange reserves at appropriate levels, Yi said.'''\n",
    "\n",
    "articles = [article_1, article_2, article_3, article_4, article_5, article_6, article_7, article_8, article_9, article_10]"
   ]
  },
  {
   "cell_type": "code",
   "execution_count": 5,
   "metadata": {
    "collapsed": false
   },
   "outputs": [
    {
     "name": "stdout",
     "output_type": "stream",
     "text": [
      "HONG KONG:  Hong Kong shares opened 0.66 percent lower Monday following a tepid lead from Wall Street, as the first full week of the new year kicked off. The benchmark Hang Seng Index dipped 158.63 points to 23,699.19.\n"
     ]
    }
   ],
   "source": [
    "# view article\n",
    "print(articles[1])"
   ]
  },
  {
   "cell_type": "markdown",
   "metadata": {},
   "source": [
    "some functions to preprocess texts"
   ]
  },
  {
   "cell_type": "code",
   "execution_count": 20,
   "metadata": {
    "collapsed": true
   },
   "outputs": [],
   "source": [
    "def get_part_of_speech(word):\n",
    "    probable_part_of_speech = wordnet.synsets(word)\n",
    "    pos_counts = Counter()\n",
    "    pos_counts[\"n\"] = len(  [ item for item in probable_part_of_speech if item.pos()==\"n\"]  )\n",
    "    pos_counts[\"v\"] = len(  [ item for item in probable_part_of_speech if item.pos()==\"v\"]  )\n",
    "    pos_counts[\"a\"] = len(  [ item for item in probable_part_of_speech if item.pos()==\"a\"]  )\n",
    "    pos_counts[\"r\"] = len(  [ item for item in probable_part_of_speech if item.pos()==\"r\"]  )\n",
    "    most_likely_part_of_speech = pos_counts.most_common(1)[0][0]\n",
    "    return most_likely_part_of_speech"
   ]
  },
  {
   "cell_type": "code",
   "execution_count": 21,
   "metadata": {
    "collapsed": true
   },
   "outputs": [],
   "source": [
    "def preprocess_text(text):\n",
    "    cleaned = re.sub(r'\\W+', ' ', text).lower()\n",
    "    tokenized = word_tokenize(cleaned)\n",
    "    normalized = \" \".join([normalizer.lemmatize(token, get_part_of_speech(token)) for token in tokenized if not re.match(r'\\d+',token)])\n",
    "    return normalized"
   ]
  },
  {
   "cell_type": "code",
   "execution_count": 22,
   "metadata": {
    "collapsed": false
   },
   "outputs": [],
   "source": [
    "# preprocess articles\n",
    "processed_articles = [preprocess_text(article) for article in articles]"
   ]
  },
  {
   "cell_type": "code",
   "execution_count": 23,
   "metadata": {
    "collapsed": false
   },
   "outputs": [],
   "source": [
    "from sklearn.feature_extraction.text import CountVectorizer, TfidfTransformer, TfidfVectorizer"
   ]
  },
  {
   "cell_type": "code",
   "execution_count": 24,
   "metadata": {
    "collapsed": false
   },
   "outputs": [
    {
     "name": "stdout",
     "output_type": "stream",
     "text": [
      "  (0, 188)\t1\n",
      "  (0, 77)\t1\n",
      "  (0, 339)\t1\n",
      "  (0, 71)\t1\n",
      "  (0, 325)\t1\n",
      "  (0, 58)\t2\n",
      "  (0, 127)\t1\n",
      "  (0, 207)\t1\n",
      "  (0, 62)\t1\n",
      "  (0, 270)\t1\n",
      "  (0, 333)\t1\n",
      "  (0, 315)\t1\n",
      "  (0, 4)\t1\n",
      "  (0, 66)\t1\n",
      "  (0, 224)\t1\n",
      "  (0, 61)\t1\n",
      "  (0, 186)\t1\n",
      "  (0, 53)\t1\n",
      "  (0, 60)\t1\n",
      "  (0, 42)\t2\n",
      "  (0, 162)\t1\n",
      "  (0, 235)\t1\n",
      "  (0, 75)\t1\n",
      "  (0, 1)\t1\n",
      "  (0, 259)\t1\n",
      "  :\t:\n",
      "  (9, 26)\t1\n",
      "  (9, 51)\t1\n",
      "  (9, 79)\t1\n",
      "  (9, 64)\t1\n",
      "  (9, 28)\t1\n",
      "  (9, 211)\t1\n",
      "  (9, 317)\t1\n",
      "  (9, 70)\t1\n",
      "  (9, 29)\t1\n",
      "  (9, 5)\t1\n",
      "  (9, 292)\t1\n",
      "  (9, 27)\t1\n",
      "  (9, 352)\t2\n",
      "  (9, 170)\t2\n",
      "  (9, 54)\t2\n",
      "  (9, 33)\t1\n",
      "  (9, 11)\t1\n",
      "  (9, 117)\t1\n",
      "  (9, 214)\t1\n",
      "  (9, 13)\t1\n",
      "  (9, 217)\t1\n",
      "  (9, 30)\t1\n",
      "  (9, 343)\t2\n",
      "  (9, 275)\t2\n",
      "  (9, 316)\t1\n"
     ]
    }
   ],
   "source": [
    "# initialize and fit CountVectorizer\n",
    "vectorizer = CountVectorizer()\n",
    "counts = vectorizer.fit_transform(processed_articles)\n",
    "print(counts)"
   ]
  },
  {
   "cell_type": "code",
   "execution_count": 25,
   "metadata": {
    "collapsed": false
   },
   "outputs": [
    {
     "name": "stdout",
     "output_type": "stream",
     "text": [
      "  (0, 169)\t7.153829441457081\n",
      "  (0, 316)\t6.0\n",
      "  (0, 287)\t2.2992829841302607\n",
      "  (0, 132)\t6.897848952390782\n",
      "  (0, 139)\t2.9039702474861144\n",
      "  (0, 74)\t2.2992829841302607\n",
      "  (0, 321)\t4.3812407192173\n",
      "  (0, 39)\t2.01160091167848\n",
      "  (0, 87)\t2.7047480922384253\n",
      "  (0, 242)\t5.4094961844768505\n",
      "  (0, 324)\t8.114244276715276\n",
      "  (0, 110)\t10.818992368953701\n",
      "  (0, 44)\t6.03480273503544\n",
      "  (0, 227)\t2.2992829841302607\n",
      "  (0, 50)\t2.7047480922384253\n",
      "  (0, 89)\t2.2992829841302607\n",
      "  (0, 192)\t2.7047480922384253\n",
      "  (0, 258)\t5.4094961844768505\n",
      "  (0, 152)\t5.273814924474138\n",
      "  (0, 230)\t2.2992829841302607\n",
      "  (0, 239)\t2.7047480922384253\n",
      "  (0, 236)\t3.5769147207285403\n",
      "  (0, 111)\t1.6061358035703155\n",
      "  (0, 129)\t2.01160091167848\n",
      "  (0, 210)\t1.6061358035703155\n",
      "  :\t:\n",
      "  (9, 170)\t5.4094961844768505\n",
      "  (9, 352)\t5.4094961844768505\n",
      "  (9, 27)\t2.7047480922384253\n",
      "  (9, 292)\t2.7047480922384253\n",
      "  (9, 5)\t2.7047480922384253\n",
      "  (9, 29)\t2.7047480922384253\n",
      "  (9, 70)\t2.7047480922384253\n",
      "  (9, 317)\t2.7047480922384253\n",
      "  (9, 211)\t2.7047480922384253\n",
      "  (9, 28)\t2.7047480922384253\n",
      "  (9, 64)\t2.7047480922384253\n",
      "  (9, 79)\t2.7047480922384253\n",
      "  (9, 51)\t2.7047480922384253\n",
      "  (9, 26)\t2.7047480922384253\n",
      "  (9, 334)\t2.7047480922384253\n",
      "  (9, 133)\t2.7047480922384253\n",
      "  (9, 351)\t5.4094961844768505\n",
      "  (9, 126)\t2.7047480922384253\n",
      "  (9, 303)\t2.7047480922384253\n",
      "  (9, 118)\t2.7047480922384253\n",
      "  (9, 103)\t2.7047480922384253\n",
      "  (9, 263)\t2.7047480922384253\n",
      "  (9, 23)\t2.7047480922384253\n",
      "  (9, 17)\t2.7047480922384253\n",
      "  (9, 183)\t2.7047480922384253\n"
     ]
    },
    {
     "name": "stderr",
     "output_type": "stream",
     "text": [
      "/dataquest/system/env/python3/lib/python3.4/site-packages/sklearn/feature_extraction/text.py:1039: FutureWarning:\n",
      "\n",
      "Conversion of the second argument of issubdtype from `float` to `np.floating` is deprecated. In future, it will be treated as `np.float64 == np.dtype(float).type`.\n",
      "\n"
     ]
    }
   ],
   "source": [
    "# convert counts to tf-idf\n",
    "transformer = TfidfTransformer(norm=None)\n",
    "tfidf_scores_transformed = transformer.fit_transform(counts)\n",
    "print(tfidf_scores_transformed)"
   ]
  },
  {
   "cell_type": "code",
   "execution_count": 26,
   "metadata": {
    "collapsed": false
   },
   "outputs": [
    {
     "name": "stderr",
     "output_type": "stream",
     "text": [
      "/dataquest/system/env/python3/lib/python3.4/site-packages/sklearn/feature_extraction/text.py:1039: FutureWarning:\n",
      "\n",
      "Conversion of the second argument of issubdtype from `float` to `np.floating` is deprecated. In future, it will be treated as `np.float64 == np.dtype(float).type`.\n",
      "\n"
     ]
    }
   ],
   "source": [
    "# initialize and fit TfidfVectorizer\n",
    "vectorizer = TfidfVectorizer(norm=None)\n",
    "tfidf_scores = vectorizer.fit_transform(processed_articles)"
   ]
  },
  {
   "cell_type": "code",
   "execution_count": 27,
   "metadata": {
    "collapsed": false
   },
   "outputs": [
    {
     "name": "stdout",
     "output_type": "stream",
     "text": [
      "  Are the tf-idf scores the same?\n",
      "0                          Yes :D\n"
     ]
    }
   ],
   "source": [
    "# check if tf-idf scores are equal\n",
    "if np.allclose(tfidf_scores_transformed.todense(), tfidf_scores.todense()):\n",
    "    print(pd.DataFrame({'Are the tf-idf scores the same?':['Yes :D']}))\n",
    "else:\n",
    "    print(pd.DataFrame({'Are the tf-idf scores the same?':['No :(']}))"
   ]
  },
  {
   "cell_type": "code",
   "execution_count": 30,
   "metadata": {
    "collapsed": false
   },
   "outputs": [],
   "source": [
    "# get vocabulary of terms\n",
    "try:\n",
    "    feature_names = vectorizer.get_feature_names()\n",
    "except:\n",
    "    pass\n",
    "\n",
    "# get article index\n",
    "try:\n",
    "    article_index = [ i for i in range(len(articles))]\n",
    "except:\n",
    "    pass\n",
    "\n",
    "# create pandas DataFrame with word counts\n",
    "try:\n",
    "    df_word_counts = pd.DataFrame(counts.T.todense(), index=feature_names, columns=article_index)\n",
    "    print(df_word_counts)\n",
    "except:\n",
    "    pass\n",
    "\n"
   ]
  },
  {
   "cell_type": "code",
   "execution_count": 31,
   "metadata": {
    "collapsed": false
   },
   "outputs": [
    {
     "name": "stdout",
     "output_type": "stream",
     "text": [
      "                      0         1         2         3         4         5  \\\n",
      "abbasi         0.000000  0.000000  0.000000  2.704748  0.000000  0.000000   \n",
      "abide          2.704748  0.000000  0.000000  0.000000  0.000000  0.000000   \n",
      "about          0.000000  0.000000  0.000000  0.000000  0.000000  0.000000   \n",
      "accord         0.000000  0.000000  2.704748  0.000000  0.000000  0.000000   \n",
      "add            2.299283  0.000000  0.000000  0.000000  0.000000  0.000000   \n",
      "against        0.000000  0.000000  0.000000  0.000000  0.000000  0.000000   \n",
      "agency         0.000000  0.000000  0.000000  0.000000  0.000000  0.000000   \n",
      "aggressive     0.000000  0.000000  0.000000  0.000000  0.000000  0.000000   \n",
      "aim            0.000000  0.000000  0.000000  0.000000  0.000000  0.000000   \n",
      "air            0.000000  0.000000  0.000000  0.000000  0.000000  2.704748   \n",
      "almost         0.000000  0.000000  0.000000  0.000000  0.000000  2.704748   \n",
      "also           0.000000  0.000000  0.000000  0.000000  0.000000  0.000000   \n",
      "an             0.000000  0.000000  2.704748  0.000000  0.000000  0.000000   \n",
      "and            1.318454  0.000000  1.318454  1.318454  1.318454  3.955361   \n",
      "announce       0.000000  0.000000  0.000000  0.000000  0.000000  0.000000   \n",
      "apple          0.000000  0.000000  0.000000  0.000000  0.000000  0.000000   \n",
      "applicable     2.704748  0.000000  0.000000  0.000000  0.000000  0.000000   \n",
      "appropriate    0.000000  0.000000  0.000000  0.000000  0.000000  0.000000   \n",
      "approve        0.000000  0.000000  0.000000  0.000000  0.000000  0.000000   \n",
      "approximately  0.000000  0.000000  2.704748  0.000000  0.000000  0.000000   \n",
      "area           0.000000  0.000000  0.000000  2.704748  0.000000  0.000000   \n",
      "around         0.000000  0.000000  0.000000  0.000000  0.000000  2.704748   \n",
      "arrive         0.000000  0.000000  0.000000  0.000000  2.704748  0.000000   \n",
      "at             0.000000  0.000000  0.000000  0.000000  0.000000  0.000000   \n",
      "australia      0.000000  0.000000  0.000000  0.000000  0.000000  8.114244   \n",
      "away           0.000000  0.000000  0.000000  0.000000  0.000000  2.704748   \n",
      "bank           0.000000  0.000000  0.000000  0.000000  0.000000  0.000000   \n",
      "basically      0.000000  0.000000  0.000000  0.000000  0.000000  0.000000   \n",
      "basis          0.000000  0.000000  0.000000  0.000000  0.000000  0.000000   \n",
      "basket         0.000000  0.000000  0.000000  0.000000  0.000000  0.000000   \n",
      "...                 ...       ...       ...       ...       ...       ...   \n",
      "train          0.000000  0.000000  0.000000  0.000000  0.000000  0.000000   \n",
      "transport      8.114244  0.000000  0.000000  0.000000  0.000000  0.000000   \n",
      "transporter    2.704748  0.000000  0.000000  0.000000  0.000000  0.000000   \n",
      "travel         2.299283  0.000000  0.000000  0.000000  0.000000  2.299283   \n",
      "tuesday        0.000000  0.000000  0.000000  0.000000  0.000000  0.000000   \n",
      "two            0.000000  0.000000  2.299283  0.000000  0.000000  2.299283   \n",
      "unable         0.000000  0.000000  0.000000  2.704748  0.000000  0.000000   \n",
      "unhappy        0.000000  0.000000  0.000000  0.000000  0.000000  0.000000   \n",
      "up             0.000000  0.000000  0.000000  2.704748  0.000000  0.000000   \n",
      "use            0.000000  0.000000  0.000000  0.000000  2.704748  0.000000   \n",
      "vehicle        2.011601  0.000000  0.000000  2.011601  0.000000  0.000000   \n",
      "vice           0.000000  0.000000  0.000000  0.000000  0.000000  0.000000   \n",
      "visible        0.000000  0.000000  0.000000  2.704748  0.000000  0.000000   \n",
      "wall           0.000000  2.704748  0.000000  0.000000  0.000000  0.000000   \n",
      "week           0.000000  2.704748  0.000000  0.000000  0.000000  0.000000   \n",
      "well           0.000000  0.000000  2.704748  0.000000  0.000000  0.000000   \n",
      "when           2.704748  0.000000  0.000000  0.000000  0.000000  0.000000   \n",
      "which          0.000000  0.000000  0.000000  0.000000  2.704748  0.000000   \n",
      "whole          0.000000  0.000000  2.704748  0.000000  0.000000  0.000000   \n",
      "wholesale      0.000000  0.000000  2.704748  0.000000  0.000000  0.000000   \n",
      "will           5.365372  0.000000  0.000000  0.000000  3.576915  1.788457   \n",
      "with           0.000000  0.000000  2.011601  0.000000  0.000000  2.011601   \n",
      "within         0.000000  0.000000  2.704748  0.000000  0.000000  0.000000   \n",
      "witness        0.000000  0.000000  0.000000  0.000000  0.000000  0.000000   \n",
      "worker         0.000000  0.000000  0.000000  0.000000  0.000000  0.000000   \n",
      "world          0.000000  0.000000  0.000000  0.000000  0.000000  8.114244   \n",
      "would          0.000000  0.000000  0.000000  2.299283  0.000000  0.000000   \n",
      "year           0.000000  2.704748  0.000000  0.000000  0.000000  0.000000   \n",
      "yi             0.000000  0.000000  0.000000  0.000000  0.000000  0.000000   \n",
      "yuan           0.000000  0.000000  0.000000  0.000000  0.000000  0.000000   \n",
      "\n",
      "                      6         7         8         9  \n",
      "abbasi         0.000000  0.000000  0.000000  0.000000  \n",
      "abide          0.000000  0.000000  0.000000  0.000000  \n",
      "about          2.704748  0.000000  0.000000  0.000000  \n",
      "accord         0.000000  0.000000  0.000000  0.000000  \n",
      "add            0.000000  0.000000  2.299283  0.000000  \n",
      "against        0.000000  0.000000  0.000000  2.704748  \n",
      "agency         2.704748  0.000000  0.000000  0.000000  \n",
      "aggressive     2.704748  0.000000  0.000000  0.000000  \n",
      "aim            2.704748  0.000000  0.000000  0.000000  \n",
      "air            0.000000  0.000000  0.000000  0.000000  \n",
      "almost         0.000000  0.000000  0.000000  0.000000  \n",
      "also           0.000000  6.897849  0.000000  2.299283  \n",
      "an             0.000000  0.000000  0.000000  0.000000  \n",
      "and            0.000000  1.318454  0.000000  1.318454  \n",
      "announce       0.000000  5.409496  0.000000  0.000000  \n",
      "apple          5.409496  0.000000  0.000000  0.000000  \n",
      "applicable     0.000000  0.000000  0.000000  0.000000  \n",
      "appropriate    0.000000  0.000000  0.000000  2.704748  \n",
      "approve        0.000000  0.000000  2.704748  0.000000  \n",
      "approximately  0.000000  0.000000  0.000000  0.000000  \n",
      "area           0.000000  0.000000  0.000000  0.000000  \n",
      "around         0.000000  0.000000  0.000000  0.000000  \n",
      "arrive         0.000000  0.000000  0.000000  0.000000  \n",
      "at             0.000000  0.000000  0.000000  2.704748  \n",
      "australia      0.000000  0.000000  0.000000  0.000000  \n",
      "away           0.000000  0.000000  0.000000  0.000000  \n",
      "bank           0.000000  0.000000  0.000000  2.704748  \n",
      "basically      0.000000  0.000000  0.000000  2.704748  \n",
      "basis          0.000000  0.000000  0.000000  2.704748  \n",
      "basket         0.000000  0.000000  0.000000  2.704748  \n",
      "...                 ...       ...       ...       ...  \n",
      "train          0.000000  2.704748  0.000000  0.000000  \n",
      "transport      0.000000  0.000000  0.000000  0.000000  \n",
      "transporter    0.000000  0.000000  0.000000  0.000000  \n",
      "travel         0.000000  0.000000  0.000000  0.000000  \n",
      "tuesday        0.000000  2.299283  2.299283  0.000000  \n",
      "two            0.000000  0.000000  0.000000  0.000000  \n",
      "unable         0.000000  0.000000  0.000000  0.000000  \n",
      "unhappy        2.704748  0.000000  0.000000  0.000000  \n",
      "up             0.000000  0.000000  0.000000  0.000000  \n",
      "use            0.000000  0.000000  0.000000  0.000000  \n",
      "vehicle        2.011601  0.000000  0.000000  0.000000  \n",
      "vice           0.000000  0.000000  0.000000  2.704748  \n",
      "visible        0.000000  0.000000  0.000000  0.000000  \n",
      "wall           0.000000  0.000000  0.000000  0.000000  \n",
      "week           0.000000  0.000000  0.000000  0.000000  \n",
      "well           0.000000  0.000000  0.000000  0.000000  \n",
      "when           0.000000  0.000000  0.000000  0.000000  \n",
      "which          0.000000  0.000000  0.000000  0.000000  \n",
      "whole          0.000000  0.000000  0.000000  0.000000  \n",
      "wholesale      0.000000  0.000000  0.000000  0.000000  \n",
      "will           0.000000  0.000000  0.000000  3.576915  \n",
      "with           6.034803  0.000000  0.000000  0.000000  \n",
      "within         0.000000  0.000000  0.000000  0.000000  \n",
      "witness        0.000000  2.704748  0.000000  0.000000  \n",
      "worker         0.000000  2.704748  0.000000  0.000000  \n",
      "world          0.000000  0.000000  0.000000  0.000000  \n",
      "would          0.000000  0.000000  2.299283  0.000000  \n",
      "year           0.000000  0.000000  0.000000  0.000000  \n",
      "yi             0.000000  0.000000  0.000000  5.409496  \n",
      "yuan           0.000000  0.000000  0.000000  5.409496  \n",
      "\n",
      "[353 rows x 10 columns]\n",
      "                      0         1         2         3         4         5  \\\n",
      "abbasi         0.000000  0.000000  0.000000  2.704748  0.000000  0.000000   \n",
      "abide          2.704748  0.000000  0.000000  0.000000  0.000000  0.000000   \n",
      "about          0.000000  0.000000  0.000000  0.000000  0.000000  0.000000   \n",
      "accord         0.000000  0.000000  2.704748  0.000000  0.000000  0.000000   \n",
      "add            2.299283  0.000000  0.000000  0.000000  0.000000  0.000000   \n",
      "against        0.000000  0.000000  0.000000  0.000000  0.000000  0.000000   \n",
      "agency         0.000000  0.000000  0.000000  0.000000  0.000000  0.000000   \n",
      "aggressive     0.000000  0.000000  0.000000  0.000000  0.000000  0.000000   \n",
      "aim            0.000000  0.000000  0.000000  0.000000  0.000000  0.000000   \n",
      "air            0.000000  0.000000  0.000000  0.000000  0.000000  2.704748   \n",
      "almost         0.000000  0.000000  0.000000  0.000000  0.000000  2.704748   \n",
      "also           0.000000  0.000000  0.000000  0.000000  0.000000  0.000000   \n",
      "an             0.000000  0.000000  2.704748  0.000000  0.000000  0.000000   \n",
      "and            1.318454  0.000000  1.318454  1.318454  1.318454  3.955361   \n",
      "announce       0.000000  0.000000  0.000000  0.000000  0.000000  0.000000   \n",
      "apple          0.000000  0.000000  0.000000  0.000000  0.000000  0.000000   \n",
      "applicable     2.704748  0.000000  0.000000  0.000000  0.000000  0.000000   \n",
      "appropriate    0.000000  0.000000  0.000000  0.000000  0.000000  0.000000   \n",
      "approve        0.000000  0.000000  0.000000  0.000000  0.000000  0.000000   \n",
      "approximately  0.000000  0.000000  2.704748  0.000000  0.000000  0.000000   \n",
      "area           0.000000  0.000000  0.000000  2.704748  0.000000  0.000000   \n",
      "around         0.000000  0.000000  0.000000  0.000000  0.000000  2.704748   \n",
      "arrive         0.000000  0.000000  0.000000  0.000000  2.704748  0.000000   \n",
      "at             0.000000  0.000000  0.000000  0.000000  0.000000  0.000000   \n",
      "australia      0.000000  0.000000  0.000000  0.000000  0.000000  8.114244   \n",
      "away           0.000000  0.000000  0.000000  0.000000  0.000000  2.704748   \n",
      "bank           0.000000  0.000000  0.000000  0.000000  0.000000  0.000000   \n",
      "basically      0.000000  0.000000  0.000000  0.000000  0.000000  0.000000   \n",
      "basis          0.000000  0.000000  0.000000  0.000000  0.000000  0.000000   \n",
      "basket         0.000000  0.000000  0.000000  0.000000  0.000000  0.000000   \n",
      "...                 ...       ...       ...       ...       ...       ...   \n",
      "train          0.000000  0.000000  0.000000  0.000000  0.000000  0.000000   \n",
      "transport      8.114244  0.000000  0.000000  0.000000  0.000000  0.000000   \n",
      "transporter    2.704748  0.000000  0.000000  0.000000  0.000000  0.000000   \n",
      "travel         2.299283  0.000000  0.000000  0.000000  0.000000  2.299283   \n",
      "tuesday        0.000000  0.000000  0.000000  0.000000  0.000000  0.000000   \n",
      "two            0.000000  0.000000  2.299283  0.000000  0.000000  2.299283   \n",
      "unable         0.000000  0.000000  0.000000  2.704748  0.000000  0.000000   \n",
      "unhappy        0.000000  0.000000  0.000000  0.000000  0.000000  0.000000   \n",
      "up             0.000000  0.000000  0.000000  2.704748  0.000000  0.000000   \n",
      "use            0.000000  0.000000  0.000000  0.000000  2.704748  0.000000   \n",
      "vehicle        2.011601  0.000000  0.000000  2.011601  0.000000  0.000000   \n",
      "vice           0.000000  0.000000  0.000000  0.000000  0.000000  0.000000   \n",
      "visible        0.000000  0.000000  0.000000  2.704748  0.000000  0.000000   \n",
      "wall           0.000000  2.704748  0.000000  0.000000  0.000000  0.000000   \n",
      "week           0.000000  2.704748  0.000000  0.000000  0.000000  0.000000   \n",
      "well           0.000000  0.000000  2.704748  0.000000  0.000000  0.000000   \n",
      "when           2.704748  0.000000  0.000000  0.000000  0.000000  0.000000   \n",
      "which          0.000000  0.000000  0.000000  0.000000  2.704748  0.000000   \n",
      "whole          0.000000  0.000000  2.704748  0.000000  0.000000  0.000000   \n",
      "wholesale      0.000000  0.000000  2.704748  0.000000  0.000000  0.000000   \n",
      "will           5.365372  0.000000  0.000000  0.000000  3.576915  1.788457   \n",
      "with           0.000000  0.000000  2.011601  0.000000  0.000000  2.011601   \n",
      "within         0.000000  0.000000  2.704748  0.000000  0.000000  0.000000   \n",
      "witness        0.000000  0.000000  0.000000  0.000000  0.000000  0.000000   \n",
      "worker         0.000000  0.000000  0.000000  0.000000  0.000000  0.000000   \n",
      "world          0.000000  0.000000  0.000000  0.000000  0.000000  8.114244   \n",
      "would          0.000000  0.000000  0.000000  2.299283  0.000000  0.000000   \n",
      "year           0.000000  2.704748  0.000000  0.000000  0.000000  0.000000   \n",
      "yi             0.000000  0.000000  0.000000  0.000000  0.000000  0.000000   \n",
      "yuan           0.000000  0.000000  0.000000  0.000000  0.000000  0.000000   \n",
      "\n",
      "                      6         7         8         9  \n",
      "abbasi         0.000000  0.000000  0.000000  0.000000  \n",
      "abide          0.000000  0.000000  0.000000  0.000000  \n",
      "about          2.704748  0.000000  0.000000  0.000000  \n",
      "accord         0.000000  0.000000  0.000000  0.000000  \n",
      "add            0.000000  0.000000  2.299283  0.000000  \n",
      "against        0.000000  0.000000  0.000000  2.704748  \n",
      "agency         2.704748  0.000000  0.000000  0.000000  \n",
      "aggressive     2.704748  0.000000  0.000000  0.000000  \n",
      "aim            2.704748  0.000000  0.000000  0.000000  \n",
      "air            0.000000  0.000000  0.000000  0.000000  \n",
      "almost         0.000000  0.000000  0.000000  0.000000  \n",
      "also           0.000000  6.897849  0.000000  2.299283  \n",
      "an             0.000000  0.000000  0.000000  0.000000  \n",
      "and            0.000000  1.318454  0.000000  1.318454  \n",
      "announce       0.000000  5.409496  0.000000  0.000000  \n",
      "apple          5.409496  0.000000  0.000000  0.000000  \n",
      "applicable     0.000000  0.000000  0.000000  0.000000  \n",
      "appropriate    0.000000  0.000000  0.000000  2.704748  \n",
      "approve        0.000000  0.000000  2.704748  0.000000  \n",
      "approximately  0.000000  0.000000  0.000000  0.000000  \n",
      "area           0.000000  0.000000  0.000000  0.000000  \n",
      "around         0.000000  0.000000  0.000000  0.000000  \n",
      "arrive         0.000000  0.000000  0.000000  0.000000  \n",
      "at             0.000000  0.000000  0.000000  2.704748  \n",
      "australia      0.000000  0.000000  0.000000  0.000000  \n",
      "away           0.000000  0.000000  0.000000  0.000000  \n",
      "bank           0.000000  0.000000  0.000000  2.704748  \n",
      "basically      0.000000  0.000000  0.000000  2.704748  \n",
      "basis          0.000000  0.000000  0.000000  2.704748  \n",
      "basket         0.000000  0.000000  0.000000  2.704748  \n",
      "...                 ...       ...       ...       ...  \n",
      "train          0.000000  2.704748  0.000000  0.000000  \n",
      "transport      0.000000  0.000000  0.000000  0.000000  \n",
      "transporter    0.000000  0.000000  0.000000  0.000000  \n",
      "travel         0.000000  0.000000  0.000000  0.000000  \n",
      "tuesday        0.000000  2.299283  2.299283  0.000000  \n",
      "two            0.000000  0.000000  0.000000  0.000000  \n",
      "unable         0.000000  0.000000  0.000000  0.000000  \n",
      "unhappy        2.704748  0.000000  0.000000  0.000000  \n",
      "up             0.000000  0.000000  0.000000  0.000000  \n",
      "use            0.000000  0.000000  0.000000  0.000000  \n",
      "vehicle        2.011601  0.000000  0.000000  0.000000  \n",
      "vice           0.000000  0.000000  0.000000  2.704748  \n",
      "visible        0.000000  0.000000  0.000000  0.000000  \n",
      "wall           0.000000  0.000000  0.000000  0.000000  \n",
      "week           0.000000  0.000000  0.000000  0.000000  \n",
      "well           0.000000  0.000000  0.000000  0.000000  \n",
      "when           0.000000  0.000000  0.000000  0.000000  \n",
      "which          0.000000  0.000000  0.000000  0.000000  \n",
      "whole          0.000000  0.000000  0.000000  0.000000  \n",
      "wholesale      0.000000  0.000000  0.000000  0.000000  \n",
      "will           0.000000  0.000000  0.000000  3.576915  \n",
      "with           6.034803  0.000000  0.000000  0.000000  \n",
      "within         0.000000  0.000000  0.000000  0.000000  \n",
      "witness        0.000000  2.704748  0.000000  0.000000  \n",
      "worker         0.000000  2.704748  0.000000  0.000000  \n",
      "world          0.000000  0.000000  0.000000  0.000000  \n",
      "would          0.000000  0.000000  2.299283  0.000000  \n",
      "year           0.000000  0.000000  0.000000  0.000000  \n",
      "yi             0.000000  0.000000  0.000000  5.409496  \n",
      "yuan           0.000000  0.000000  0.000000  5.409496  \n",
      "\n",
      "[353 rows x 10 columns]\n"
     ]
    }
   ],
   "source": [
    "# create pandas DataFrame(s) with tf-idf scores\n",
    "try:\n",
    "    df_tf_idf = pd.DataFrame(tfidf_scores_transformed.T.todense(), index=feature_names, columns=article_index)\n",
    "    print(df_tf_idf)\n",
    "except:\n",
    "    pass\n",
    "\n",
    "try:\n",
    "    df_tf_idf = pd.DataFrame(tfidf_scores.T.todense(), index=feature_names, columns=article_index)\n",
    "    print(df_tf_idf)\n",
    "except:\n",
    "    pass"
   ]
  },
  {
   "cell_type": "code",
   "execution_count": 32,
   "metadata": {
    "collapsed": false
   },
   "outputs": [
    {
     "name": "stdout",
     "output_type": "stream",
     "text": [
      "1    hong\n",
      "dtype: object\n",
      "2    sugar\n",
      "dtype: object\n",
      "3    petrol\n",
      "dtype: object\n",
      "4    engine\n",
      "dtype: object\n",
      "5    australia\n",
      "dtype: object\n",
      "6    car\n",
      "dtype: object\n",
      "7    railway\n",
      "dtype: object\n",
      "8    cabinet\n",
      "dtype: object\n",
      "9    china\n",
      "dtype: object\n"
     ]
    }
   ],
   "source": [
    "# get highest scoring tf-idf term for each article\n",
    "for i in range(1, 10):\n",
    "    print(df_tf_idf[[i]].idxmax())"
   ]
  },
  {
   "cell_type": "code",
   "execution_count": null,
   "metadata": {
    "collapsed": true
   },
   "outputs": [],
   "source": []
  }
 ],
 "metadata": {
  "kernelspec": {
   "display_name": "Python 3",
   "language": "python",
   "name": "python3"
  },
  "language_info": {
   "codemirror_mode": {
    "name": "ipython",
    "version": 3
   },
   "file_extension": ".py",
   "mimetype": "text/x-python",
   "name": "python",
   "nbconvert_exporter": "python",
   "pygments_lexer": "ipython3",
   "version": "3.4.3"
  }
 },
 "nbformat": 4,
 "nbformat_minor": 2
}
