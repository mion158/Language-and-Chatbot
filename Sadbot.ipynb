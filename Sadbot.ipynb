{
  "nbformat": 4,
  "nbformat_minor": 0,
  "metadata": {
    "colab": {
      "provenance": [],
      "authorship_tag": "ABX9TyOw9HFAJzHwaJgIQfr5vW5o"
    },
    "kernelspec": {
      "name": "python3",
      "display_name": "Python 3"
    },
    "language_info": {
      "name": "python"
    }
  },
  "cells": [
    {
      "cell_type": "code",
      "execution_count": 1,
      "metadata": {
        "id": "zx5KVmTukUKx"
      },
      "outputs": [],
      "source": [
        "import re\n",
        "import random"
      ]
    },
    {
      "cell_type": "code",
      "source": [
        "class BottlingBot:\n",
        "    #negative responses when initiate convo\n",
        "    negative_responses = (\"no\", \"nope\", \"nah\", \"stop\", \"not a chance\", \"sorry\")\n",
        "    #exiting words later on\n",
        "    exit_commands = (\"quit\", \"pause\", \"exit\", \"goodbye\", \"bye\", \"later\")\n",
        "    #random convo starter\n",
        "    random_questions = (\"Why did you leave? \",\"What did I do wrong? \",\"Why are you here?\",\"Was I not good enough? \",\"Have you already forgotten about me? \")\n",
        "    \n",
        "    def __init__(self):\n",
        "        self.babble = {'lies_intent': [r'.*you.*good enough.', r'.*you.*perfect.*', r'.*I.*miss you.*'],\n",
        "                       'heartless_intent': [r'.*I.*moved on.*', r'.*love.*fake.*', r'.*never.*loved.*']}\n",
        "        \n",
        "        \n",
        "    #method to greet\n",
        "    def greet(self):\n",
        "        self.name = input(\"What's your name? \\n\")\n",
        "        talk_to_me = input(f\"Okay {self.name}, I have doubts, please answer? \\n\")\n",
        "        \n",
        "        if talk_to_me in self.negative_responses:\n",
        "            print(\"Nevermind then\")\n",
        "            return\n",
        "        \n",
        "        self.chat(talk_to_me)\n",
        "    \n",
        "    #method to exit convo\n",
        "    def make_exit(self, reply):\n",
        "        for exit_command in self.exit_commands:\n",
        "            if exit_command in reply:\n",
        "                print(\"K bye\")\n",
        "                return True\n",
        "      \n",
        "        return False\n",
        "    \n",
        "    #method to continue convo:\n",
        "    def chat(self, reply):\n",
        "        input(random.choice(self.random_questions))\n",
        "        while not self.make_exit(reply):\n",
        "            reply = self.match_reply(reply)\n",
        " \n",
        "            \n",
        "    # Define .match_reply() below:\n",
        "    def match_reply(self, reply):\n",
        "        for key, values in self.babble.items():\n",
        "            for regex_pattern in values:\n",
        "                found_match = re.match(regex_pattern, reply.lower())\n",
        "                if found_match and key == 'lies_intent':\n",
        "                    return self.lies_intent()\n",
        "                elif found_match and key == 'heartless_intent':\n",
        "                    return self.heartless_intent()\n",
        "                else:\n",
        "                    return self.no_match_intent()\n",
        "    \n",
        "    #define the intents\n",
        "    \n",
        "    def lies_intent(self):\n",
        "        return input(\"Stop with all the lies. Bye? \\n\")\n",
        "    \n",
        "    def heartless_intent(self):\n",
        "        return input(\"Good for you. Bye? \\n\")\n",
        "\n",
        "    def no_match_intent(self):\n",
        "        return input(\"Whatever. Goodbye? \\n\")"
      ],
      "metadata": {
        "id": "RjNnal1Mkgzj"
      },
      "execution_count": 49,
      "outputs": []
    },
    {
      "cell_type": "code",
      "source": [
        "#Instance of bot\n",
        "talking_bot = BottlingBot()\n",
        "talking_bot.greet()"
      ],
      "metadata": {
        "colab": {
          "base_uri": "https://localhost:8080/"
        },
        "id": "G_M4hCtklAKv",
        "outputId": "ca8725ac-cd48-46d9-9e52-bbe791d99b59"
      },
      "execution_count": 46,
      "outputs": [
        {
          "output_type": "stream",
          "name": "stdout",
          "text": [
            "What's your name? \n",
            "mion\n",
            "Okay mion, I have doubts, please answer? \n",
            "okay\n",
            "What did I do wrong? nothing, you were perfect\n",
            "Whatever. Goodbye? \n",
            "bye\n",
            "K bye\n"
          ]
        }
      ]
    },
    {
      "cell_type": "code",
      "source": [
        "talking_bot.greet()"
      ],
      "metadata": {
        "colab": {
          "base_uri": "https://localhost:8080/"
        },
        "id": "-lGVPy7YsMh_",
        "outputId": "b2aa101e-5606-4f1d-caa4-0cf0f77e0ce9"
      },
      "execution_count": 47,
      "outputs": [
        {
          "output_type": "stream",
          "name": "stdout",
          "text": [
            "What's your name? \n",
            "mion\n",
            "Okay mion, I have doubts, please answer? \n",
            "okay\n",
            "Why did you leave? i don't love you anymore\n",
            "Whatever. Goodbye? \n",
            "bye\n",
            "K bye\n"
          ]
        }
      ]
    },
    {
      "cell_type": "code",
      "source": [
        "another_bot = BottlingBot()\n",
        "another_bot.greet()"
      ],
      "metadata": {
        "colab": {
          "base_uri": "https://localhost:8080/"
        },
        "id": "ZqJOmiEXsVmj",
        "outputId": "9a596631-a9c5-4e94-b324-fa1bcc129428"
      },
      "execution_count": 50,
      "outputs": [
        {
          "output_type": "stream",
          "name": "stdout",
          "text": [
            "What's your name? \n",
            "mion\n",
            "Okay mion, I have doubts, please answer? \n",
            "okay\n",
            "What did I do wrong? nothing, you were perfect\n",
            "Stop with all the lies. Bye? \n",
            "goodbye\n",
            "K bye\n"
          ]
        }
      ]
    }
  ]
}