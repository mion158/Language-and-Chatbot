{
 "cells": [
  {
   "cell_type": "code",
   "execution_count": 10,
   "id": "abbe7258",
   "metadata": {},
   "outputs": [],
   "source": [
    "import re\n",
    "import random"
   ]
  },
  {
   "cell_type": "code",
   "execution_count": 11,
   "id": "2605a4bb",
   "metadata": {},
   "outputs": [],
   "source": [
    "class Bottle:\n",
    "    #negative responses\n",
    "    negative_responses = (\"no\", \"nope\", \"nah\", \"naw\", \"not a chance\", \"sorry\")\n",
    "    #exiting words\n",
    "    exit_commands = (\"quit\", \"pause\", \"exit\", \"goodbye\", \"bye\", \"later\")\n",
    "    #to keep convo\n",
    "    random_questions = (\"Why are you here? \",\"Why did you leave? \",\"Was I not good enough? \",\"Have you already forgotten about me? \")\n",
    "    def __init__(self):\n",
    "        self.babble = {'describe_miss_intent': [r'.*\\s*miss you.*',r'.*\\s*need you.*'], 'lies_intent': [r'.*\\s*perfect.*',r'.*\\s*good enough.*'],'heartless_intent': (r'.*\\s*moved on.*')}\n",
    "    \n",
    "    #method to greet\n",
    "    def greet(self):\n",
    "        self.name = input(\"What's your name? \\n\")\n",
    "        talk_to_me = input(f\"Okay {self.name}, you will answer some quetsions for me okay? \\n\")\n",
    "        if talk_to_me in self.negative_responses:\n",
    "            print(\"Nevermind then\")\n",
    "            return\n",
    "        \n",
    "        self.chat(talk_to_me)\n",
    "    \n",
    "    #method to exit\n",
    "    def make_exit(self, reply):\n",
    "        for exit_command in self.exit_commands:\n",
    "            if exit_command in reply:\n",
    "                print(\"K bye\")\n",
    "                return True\n",
    "      \n",
    "        return False\n",
    "\n",
    "    #method to chat:\n",
    "    def chat(self, reply):\n",
    "        reply = input(random.choice(self.random_questions)).lower()\n",
    "        while not self.make_exit(reply):\n",
    "            input(self.match_reply(reply))\n",
    " \n",
    "            \n",
    "    # Define .match_reply() below:\n",
    "    def match_reply(self, reply):\n",
    "        for key, values in self.babble.items():\n",
    "            for regex_pattern in values:\n",
    "                found_match = re.match(regex_pattern, reply.lower())\n",
    "                if found_match and key == 'lies_intent':\n",
    "                    return self.lies_intent()\n",
    "                elif found_match and key == 'describe_miss_intent':\n",
    "                    return self.describe_miss_intent()\n",
    "                elif found_match and key == 'heartless_intent':\n",
    "                    return self.heartless_intent()\n",
    "                \n",
    "            return self.no_match_intent()\n",
    "        \n",
    "#define the intents\n",
    "    def describe_miss_intent(self):\n",
    "        return \"I miss you too but it is too late. Aything else to say? \\n\"\n",
    "    \n",
    "    def lies_intent(self):\n",
    "        return \"Stop with all the lies. Anything else to say? \\n\"\n",
    "    \n",
    "    def heartless_intent(self):\n",
    "        return \"Good for you. Anything else to say? \\n\"\n",
    "\n",
    "    def no_match_intent(self):\n",
    "        return \"Whatever. Anything else to say? \\n\"\n",
    "\n"
   ]
  },
  {
   "cell_type": "code",
   "execution_count": 12,
   "id": "7dce7a77",
   "metadata": {},
   "outputs": [
    {
     "name": "stdout",
     "output_type": "stream",
     "text": [
      "What's your name? \n",
      "mion\n",
      "Okay mion, you will answer some quetsions for me okay? \n",
      "no\n",
      "Nevermind then\n"
     ]
    }
   ],
   "source": [
    "#Instance of bot\n",
    "talking_bot = Bottle()\n",
    "talking_bot.greet()"
   ]
  }
 ],
 "metadata": {
  "kernelspec": {
   "display_name": "Python 3 (ipykernel)",
   "language": "python",
   "name": "python3"
  },
  "language_info": {
   "codemirror_mode": {
    "name": "ipython",
    "version": 3
   },
   "file_extension": ".py",
   "mimetype": "text/x-python",
   "name": "python",
   "nbconvert_exporter": "python",
   "pygments_lexer": "ipython3",
   "version": "3.9.12"
  }
 },
 "nbformat": 4,
 "nbformat_minor": 5
}
